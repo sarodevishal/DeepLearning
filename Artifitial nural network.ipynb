{
 "cells": [
  {
   "cell_type": "code",
   "execution_count": 2,
   "metadata": {},
   "outputs": [],
   "source": [
    "import pandas as pd\n",
    "import numpy as np\n",
    "import matplotlib.pyplot as plt\n"
   ]
  },
  {
   "cell_type": "code",
   "execution_count": 4,
   "metadata": {},
   "outputs": [
    {
     "data": {
      "text/html": [
       "<div>\n",
       "<style scoped>\n",
       "    .dataframe tbody tr th:only-of-type {\n",
       "        vertical-align: middle;\n",
       "    }\n",
       "\n",
       "    .dataframe tbody tr th {\n",
       "        vertical-align: top;\n",
       "    }\n",
       "\n",
       "    .dataframe thead th {\n",
       "        text-align: right;\n",
       "    }\n",
       "</style>\n",
       "<table border=\"1\" class=\"dataframe\">\n",
       "  <thead>\n",
       "    <tr style=\"text-align: right;\">\n",
       "      <th></th>\n",
       "      <th>RowNumber</th>\n",
       "      <th>CustomerId</th>\n",
       "      <th>Surname</th>\n",
       "      <th>CreditScore</th>\n",
       "      <th>Geography</th>\n",
       "      <th>Gender</th>\n",
       "      <th>Age</th>\n",
       "      <th>Tenure</th>\n",
       "      <th>Balance</th>\n",
       "      <th>NumOfProducts</th>\n",
       "      <th>HasCrCard</th>\n",
       "      <th>IsActiveMember</th>\n",
       "      <th>EstimatedSalary</th>\n",
       "      <th>Exited</th>\n",
       "    </tr>\n",
       "  </thead>\n",
       "  <tbody>\n",
       "    <tr>\n",
       "      <th>0</th>\n",
       "      <td>1</td>\n",
       "      <td>15634602</td>\n",
       "      <td>Hargrave</td>\n",
       "      <td>619</td>\n",
       "      <td>France</td>\n",
       "      <td>Female</td>\n",
       "      <td>42</td>\n",
       "      <td>2</td>\n",
       "      <td>0.00</td>\n",
       "      <td>1</td>\n",
       "      <td>1</td>\n",
       "      <td>1</td>\n",
       "      <td>101348.88</td>\n",
       "      <td>1</td>\n",
       "    </tr>\n",
       "    <tr>\n",
       "      <th>1</th>\n",
       "      <td>2</td>\n",
       "      <td>15647311</td>\n",
       "      <td>Hill</td>\n",
       "      <td>608</td>\n",
       "      <td>Spain</td>\n",
       "      <td>Female</td>\n",
       "      <td>41</td>\n",
       "      <td>1</td>\n",
       "      <td>83807.86</td>\n",
       "      <td>1</td>\n",
       "      <td>0</td>\n",
       "      <td>1</td>\n",
       "      <td>112542.58</td>\n",
       "      <td>0</td>\n",
       "    </tr>\n",
       "    <tr>\n",
       "      <th>2</th>\n",
       "      <td>3</td>\n",
       "      <td>15619304</td>\n",
       "      <td>Onio</td>\n",
       "      <td>502</td>\n",
       "      <td>France</td>\n",
       "      <td>Female</td>\n",
       "      <td>42</td>\n",
       "      <td>8</td>\n",
       "      <td>159660.80</td>\n",
       "      <td>3</td>\n",
       "      <td>1</td>\n",
       "      <td>0</td>\n",
       "      <td>113931.57</td>\n",
       "      <td>1</td>\n",
       "    </tr>\n",
       "    <tr>\n",
       "      <th>3</th>\n",
       "      <td>4</td>\n",
       "      <td>15701354</td>\n",
       "      <td>Boni</td>\n",
       "      <td>699</td>\n",
       "      <td>France</td>\n",
       "      <td>Female</td>\n",
       "      <td>39</td>\n",
       "      <td>1</td>\n",
       "      <td>0.00</td>\n",
       "      <td>2</td>\n",
       "      <td>0</td>\n",
       "      <td>0</td>\n",
       "      <td>93826.63</td>\n",
       "      <td>0</td>\n",
       "    </tr>\n",
       "    <tr>\n",
       "      <th>4</th>\n",
       "      <td>5</td>\n",
       "      <td>15737888</td>\n",
       "      <td>Mitchell</td>\n",
       "      <td>850</td>\n",
       "      <td>Spain</td>\n",
       "      <td>Female</td>\n",
       "      <td>43</td>\n",
       "      <td>2</td>\n",
       "      <td>125510.82</td>\n",
       "      <td>1</td>\n",
       "      <td>1</td>\n",
       "      <td>1</td>\n",
       "      <td>79084.10</td>\n",
       "      <td>0</td>\n",
       "    </tr>\n",
       "  </tbody>\n",
       "</table>\n",
       "</div>"
      ],
      "text/plain": [
       "   RowNumber  CustomerId   Surname  CreditScore Geography  Gender  Age  \\\n",
       "0          1    15634602  Hargrave          619    France  Female   42   \n",
       "1          2    15647311      Hill          608     Spain  Female   41   \n",
       "2          3    15619304      Onio          502    France  Female   42   \n",
       "3          4    15701354      Boni          699    France  Female   39   \n",
       "4          5    15737888  Mitchell          850     Spain  Female   43   \n",
       "\n",
       "   Tenure    Balance  NumOfProducts  HasCrCard  IsActiveMember  \\\n",
       "0       2       0.00              1          1               1   \n",
       "1       1   83807.86              1          0               1   \n",
       "2       8  159660.80              3          1               0   \n",
       "3       1       0.00              2          0               0   \n",
       "4       2  125510.82              1          1               1   \n",
       "\n",
       "   EstimatedSalary  Exited  \n",
       "0        101348.88       1  \n",
       "1        112542.58       0  \n",
       "2        113931.57       1  \n",
       "3         93826.63       0  \n",
       "4         79084.10       0  "
      ]
     },
     "execution_count": 4,
     "metadata": {},
     "output_type": "execute_result"
    }
   ],
   "source": [
    "df=pd.read_csv('Churn_Modelling.csv')\n",
    "df.head()"
   ]
  },
  {
   "cell_type": "code",
   "execution_count": 27,
   "metadata": {},
   "outputs": [],
   "source": [
    "X=df.iloc[:,3:13].values\n",
    "y=df.iloc[:,13].values"
   ]
  },
  {
   "cell_type": "code",
   "execution_count": 28,
   "metadata": {},
   "outputs": [
    {
     "data": {
      "text/plain": [
       "array([[619, 'France', 'Female', ..., 1, 1, 101348.88],\n",
       "       [608, 'Spain', 'Female', ..., 0, 1, 112542.58],\n",
       "       [502, 'France', 'Female', ..., 1, 0, 113931.57],\n",
       "       ...,\n",
       "       [709, 'France', 'Female', ..., 0, 1, 42085.58],\n",
       "       [772, 'Germany', 'Male', ..., 1, 0, 92888.52],\n",
       "       [792, 'France', 'Female', ..., 1, 0, 38190.78]], dtype=object)"
      ]
     },
     "execution_count": 28,
     "metadata": {},
     "output_type": "execute_result"
    }
   ],
   "source": [
    "X"
   ]
  },
  {
   "cell_type": "code",
   "execution_count": 29,
   "metadata": {},
   "outputs": [
    {
     "data": {
      "text/plain": [
       "array([1, 0, 1, ..., 1, 1, 0], dtype=int64)"
      ]
     },
     "execution_count": 29,
     "metadata": {},
     "output_type": "execute_result"
    }
   ],
   "source": [
    "y"
   ]
  },
  {
   "cell_type": "code",
   "execution_count": 32,
   "metadata": {},
   "outputs": [],
   "source": [
    "#Label Encoding\n",
    "from sklearn.preprocessing import LabelEncoder\n",
    "le1=LabelEncoder()\n",
    "X[:,1]=le1.fit_transform(X[:,1])\n",
    "le2=LabelEncoder()\n",
    "X[:,2]=le2.fit_transform(X[:,2])"
   ]
  },
  {
   "cell_type": "code",
   "execution_count": 33,
   "metadata": {},
   "outputs": [
    {
     "data": {
      "text/plain": [
       "array([[619, 0, 0, ..., 1, 1, 101348.88],\n",
       "       [608, 2, 0, ..., 0, 1, 112542.58],\n",
       "       [502, 0, 0, ..., 1, 0, 113931.57],\n",
       "       ...,\n",
       "       [709, 0, 0, ..., 0, 1, 42085.58],\n",
       "       [772, 1, 1, ..., 1, 0, 92888.52],\n",
       "       [792, 0, 0, ..., 1, 0, 38190.78]], dtype=object)"
      ]
     },
     "execution_count": 33,
     "metadata": {},
     "output_type": "execute_result"
    }
   ],
   "source": [
    "X"
   ]
  },
  {
   "cell_type": "code",
   "execution_count": 34,
   "metadata": {},
   "outputs": [],
   "source": [
    "#one hot encoding\n",
    "from sklearn.preprocessing  import OneHotEncoder\n",
    "one=OneHotEncoder(categorical_features=[1])\n",
    "X=one.fit_transform(X).toarray()\n",
    "X=X[:,1:]"
   ]
  },
  {
   "cell_type": "code",
   "execution_count": 36,
   "metadata": {},
   "outputs": [
    {
     "data": {
      "text/plain": [
       "array([[0.0000000e+00, 0.0000000e+00, 6.1900000e+02, ..., 1.0000000e+00,\n",
       "        1.0000000e+00, 1.0134888e+05],\n",
       "       [0.0000000e+00, 1.0000000e+00, 6.0800000e+02, ..., 0.0000000e+00,\n",
       "        1.0000000e+00, 1.1254258e+05],\n",
       "       [0.0000000e+00, 0.0000000e+00, 5.0200000e+02, ..., 1.0000000e+00,\n",
       "        0.0000000e+00, 1.1393157e+05],\n",
       "       ...,\n",
       "       [0.0000000e+00, 0.0000000e+00, 7.0900000e+02, ..., 0.0000000e+00,\n",
       "        1.0000000e+00, 4.2085580e+04],\n",
       "       [1.0000000e+00, 0.0000000e+00, 7.7200000e+02, ..., 1.0000000e+00,\n",
       "        0.0000000e+00, 9.2888520e+04],\n",
       "       [0.0000000e+00, 0.0000000e+00, 7.9200000e+02, ..., 1.0000000e+00,\n",
       "        0.0000000e+00, 3.8190780e+04]])"
      ]
     },
     "execution_count": 36,
     "metadata": {},
     "output_type": "execute_result"
    }
   ],
   "source": [
    "X"
   ]
  },
  {
   "cell_type": "code",
   "execution_count": 64,
   "metadata": {},
   "outputs": [],
   "source": [
    "#splitting the dataset\n",
    "from sklearn.cross_validation import train_test_split\n",
    "X_train,X_test,y_train,y_test=train_test_split(X,y,test_size=0.2,random_state=0)"
   ]
  },
  {
   "cell_type": "code",
   "execution_count": 65,
   "metadata": {},
   "outputs": [
    {
     "data": {
      "text/plain": [
       "array([[0.0000000e+00, 1.0000000e+00, 6.6700000e+02, ..., 1.0000000e+00,\n",
       "        0.0000000e+00, 1.6383064e+05],\n",
       "       [1.0000000e+00, 0.0000000e+00, 4.2700000e+02, ..., 1.0000000e+00,\n",
       "        1.0000000e+00, 5.7098000e+04],\n",
       "       [0.0000000e+00, 0.0000000e+00, 5.3500000e+02, ..., 1.0000000e+00,\n",
       "        0.0000000e+00, 1.8563076e+05],\n",
       "       ...,\n",
       "       [0.0000000e+00, 0.0000000e+00, 7.3800000e+02, ..., 1.0000000e+00,\n",
       "        0.0000000e+00, 1.8142987e+05],\n",
       "       [0.0000000e+00, 1.0000000e+00, 5.9000000e+02, ..., 1.0000000e+00,\n",
       "        1.0000000e+00, 1.4875016e+05],\n",
       "       [1.0000000e+00, 0.0000000e+00, 6.2300000e+02, ..., 1.0000000e+00,\n",
       "        0.0000000e+00, 1.1885526e+05]])"
      ]
     },
     "execution_count": 65,
     "metadata": {},
     "output_type": "execute_result"
    }
   ],
   "source": [
    "X_train"
   ]
  },
  {
   "cell_type": "code",
   "execution_count": 66,
   "metadata": {},
   "outputs": [
    {
     "data": {
      "text/plain": [
       "array([[1.0000000e+00, 0.0000000e+00, 5.9700000e+02, ..., 1.0000000e+00,\n",
       "        1.0000000e+00, 1.9285267e+05],\n",
       "       [0.0000000e+00, 0.0000000e+00, 5.2300000e+02, ..., 1.0000000e+00,\n",
       "        0.0000000e+00, 1.2870210e+05],\n",
       "       [0.0000000e+00, 1.0000000e+00, 7.0600000e+02, ..., 1.0000000e+00,\n",
       "        1.0000000e+00, 7.5732250e+04],\n",
       "       ...,\n",
       "       [0.0000000e+00, 1.0000000e+00, 5.7800000e+02, ..., 1.0000000e+00,\n",
       "        0.0000000e+00, 1.4153319e+05],\n",
       "       [1.0000000e+00, 0.0000000e+00, 6.5000000e+02, ..., 1.0000000e+00,\n",
       "        1.0000000e+00, 1.1276480e+04],\n",
       "       [1.0000000e+00, 0.0000000e+00, 5.7300000e+02, ..., 1.0000000e+00,\n",
       "        0.0000000e+00, 1.9295060e+05]])"
      ]
     },
     "execution_count": 66,
     "metadata": {},
     "output_type": "execute_result"
    }
   ],
   "source": [
    "X_test"
   ]
  },
  {
   "cell_type": "code",
   "execution_count": 67,
   "metadata": {},
   "outputs": [
    {
     "data": {
      "text/plain": [
       "array([0, 1, 0, ..., 0, 0, 0], dtype=int64)"
      ]
     },
     "execution_count": 67,
     "metadata": {},
     "output_type": "execute_result"
    }
   ],
   "source": [
    "y_test"
   ]
  },
  {
   "cell_type": "code",
   "execution_count": 68,
   "metadata": {},
   "outputs": [
    {
     "data": {
      "text/plain": [
       "array([0, 0, 0, ..., 0, 0, 1], dtype=int64)"
      ]
     },
     "execution_count": 68,
     "metadata": {},
     "output_type": "execute_result"
    }
   ],
   "source": [
    "y_train"
   ]
  },
  {
   "cell_type": "code",
   "execution_count": 69,
   "metadata": {},
   "outputs": [],
   "source": [
    "#feature scaling\n",
    "from sklearn.preprocessing import StandardScaler\n",
    "sc=StandardScaler()\n",
    "X_train=sc.fit_transform(X_train)\n",
    "X_test=sc.transform(X_test)"
   ]
  },
  {
   "cell_type": "code",
   "execution_count": 70,
   "metadata": {},
   "outputs": [],
   "source": [
    "#importing the keras\n",
    "import keras"
   ]
  },
  {
   "cell_type": "code",
   "execution_count": 71,
   "metadata": {},
   "outputs": [],
   "source": [
    "from keras.models import Sequential\n",
    "from keras.layers import Dense"
   ]
  },
  {
   "cell_type": "code",
   "execution_count": 75,
   "metadata": {},
   "outputs": [],
   "source": [
    "#initilizing the Ann\n",
    "classifier=Sequential()\n"
   ]
  },
  {
   "cell_type": "code",
   "execution_count": 80,
   "metadata": {},
   "outputs": [
    {
     "name": "stderr",
     "output_type": "stream",
     "text": [
      "C:\\Users\\vishal\\Anaconda3\\lib\\site-packages\\ipykernel_launcher.py:2: UserWarning: Update your `Dense` call to the Keras 2 API: `Dense(activation=\"relu\", input_dim=11, units=6, kernel_initializer=\"uniform\")`\n",
      "  \n"
     ]
    }
   ],
   "source": [
    "#adding the input layer and the first hidden layer\n",
    "classifier.add(Dense(output_dim=6,init='uniform',activation=\"relu\",input_dim=11))"
   ]
  },
  {
   "cell_type": "code",
   "execution_count": 81,
   "metadata": {},
   "outputs": [
    {
     "name": "stderr",
     "output_type": "stream",
     "text": [
      "C:\\Users\\vishal\\Anaconda3\\lib\\site-packages\\ipykernel_launcher.py:2: UserWarning: Update your `Dense` call to the Keras 2 API: `Dense(activation=\"relu\", units=6, kernel_initializer=\"uniform\")`\n",
      "  \n"
     ]
    }
   ],
   "source": [
    "#Adding the second hidden layer\n",
    "classifier.add(Dense(output_dim=6,init=\"uniform\",activation=\"relu\"))"
   ]
  },
  {
   "cell_type": "code",
   "execution_count": 84,
   "metadata": {},
   "outputs": [
    {
     "name": "stderr",
     "output_type": "stream",
     "text": [
      "C:\\Users\\vishal\\Anaconda3\\lib\\site-packages\\ipykernel_launcher.py:2: UserWarning: Update your `Dense` call to the Keras 2 API: `Dense(activation=\"sigmoid\", units=1, kernel_initializer=\"uniform\")`\n",
      "  \n"
     ]
    }
   ],
   "source": [
    "#adding the output layer\n",
    "classifier.add(Dense(output_dim=1,init=\"uniform\",activation=\"sigmoid\"))"
   ]
  },
  {
   "cell_type": "code",
   "execution_count": 87,
   "metadata": {},
   "outputs": [],
   "source": [
    "#compling the Ann\n",
    "classifier.compile(optimizer=\"adam\",loss=\"binary_crossentropy\",metrics=['accuracy'])"
   ]
  },
  {
   "cell_type": "code",
   "execution_count": 88,
   "metadata": {},
   "outputs": [
    {
     "name": "stderr",
     "output_type": "stream",
     "text": [
      "C:\\Users\\vishal\\Anaconda3\\lib\\site-packages\\ipykernel_launcher.py:2: UserWarning: The `nb_epoch` argument in `fit` has been renamed `epochs`.\n",
      "  \n"
     ]
    },
    {
     "name": "stdout",
     "output_type": "stream",
     "text": [
      "Epoch 1/100\n",
      "8000/8000 [==============================] - 2s 189us/step - loss: 0.6149 - acc: 0.7960\n",
      "Epoch 2/100\n",
      "8000/8000 [==============================] - 1s 148us/step - loss: 0.5344 - acc: 0.7960\n",
      "Epoch 3/100\n",
      "8000/8000 [==============================] - 1s 179us/step - loss: 0.5122 - acc: 0.7960\n",
      "Epoch 4/100\n",
      "8000/8000 [==============================] - 1s 120us/step - loss: 0.5071 - acc: 0.7960\n",
      "Epoch 5/100\n",
      "8000/8000 [==============================] - 1s 139us/step - loss: 0.5061 - acc: 0.7960\n",
      "Epoch 6/100\n",
      "8000/8000 [==============================] - 1s 129us/step - loss: 0.5060 - acc: 0.7960\n",
      "Epoch 7/100\n",
      "8000/8000 [==============================] - 1s 126us/step - loss: 0.5059 - acc: 0.7960\n",
      "Epoch 8/100\n",
      "8000/8000 [==============================] - 1s 108us/step - loss: 0.5060 - acc: 0.7960\n",
      "Epoch 9/100\n",
      "8000/8000 [==============================] - 1s 121us/step - loss: 0.5060 - acc: 0.7960\n",
      "Epoch 10/100\n",
      "8000/8000 [==============================] - 1s 137us/step - loss: 0.5059 - acc: 0.7960\n",
      "Epoch 11/100\n",
      "8000/8000 [==============================] - 1s 114us/step - loss: 0.5059 - acc: 0.7960\n",
      "Epoch 12/100\n",
      "8000/8000 [==============================] - 1s 108us/step - loss: 0.5060 - acc: 0.7960\n",
      "Epoch 13/100\n",
      "8000/8000 [==============================] - 1s 108us/step - loss: 0.5060 - acc: 0.7960\n",
      "Epoch 14/100\n",
      "8000/8000 [==============================] - 1s 108us/step - loss: 0.5059 - acc: 0.7960\n",
      "Epoch 15/100\n",
      "8000/8000 [==============================] - 1s 113us/step - loss: 0.5059 - acc: 0.7960\n",
      "Epoch 16/100\n",
      "8000/8000 [==============================] - 1s 117us/step - loss: 0.5059 - acc: 0.7960\n",
      "Epoch 17/100\n",
      "8000/8000 [==============================] - 1s 111us/step - loss: 0.5060 - acc: 0.7960\n",
      "Epoch 18/100\n",
      "8000/8000 [==============================] - 1s 109us/step - loss: 0.5060 - acc: 0.7960\n",
      "Epoch 19/100\n",
      "8000/8000 [==============================] - 1s 108us/step - loss: 0.5060 - acc: 0.7960\n",
      "Epoch 20/100\n",
      "8000/8000 [==============================] - 1s 127us/step - loss: 0.5060 - acc: 0.7960\n",
      "Epoch 21/100\n",
      "8000/8000 [==============================] - 1s 166us/step - loss: 0.5059 - acc: 0.7960\n",
      "Epoch 22/100\n",
      "8000/8000 [==============================] - 1s 156us/step - loss: 0.5060 - acc: 0.7960\n",
      "Epoch 23/100\n",
      "8000/8000 [==============================] - 1s 132us/step - loss: 0.5059 - acc: 0.7960\n",
      "Epoch 24/100\n",
      "8000/8000 [==============================] - 1s 119us/step - loss: 0.5059 - acc: 0.7960\n",
      "Epoch 25/100\n",
      "8000/8000 [==============================] - 1s 128us/step - loss: 0.5060 - acc: 0.7960\n",
      "Epoch 26/100\n",
      "8000/8000 [==============================] - 1s 124us/step - loss: 0.5059 - acc: 0.7960\n",
      "Epoch 27/100\n",
      "8000/8000 [==============================] - 1s 114us/step - loss: 0.5060 - acc: 0.7960\n",
      "Epoch 28/100\n",
      "8000/8000 [==============================] - 1s 110us/step - loss: 0.5060 - acc: 0.7960\n",
      "Epoch 29/100\n",
      "8000/8000 [==============================] - 1s 109us/step - loss: 0.5060 - acc: 0.7960\n",
      "Epoch 30/100\n",
      "8000/8000 [==============================] - 1s 112us/step - loss: 0.5059 - acc: 0.7960\n",
      "Epoch 31/100\n",
      "8000/8000 [==============================] - 1s 125us/step - loss: 0.5059 - acc: 0.7960\n",
      "Epoch 32/100\n",
      "8000/8000 [==============================] - 1s 135us/step - loss: 0.5059 - acc: 0.7960\n",
      "Epoch 33/100\n",
      "8000/8000 [==============================] - 1s 113us/step - loss: 0.5059 - acc: 0.7960\n",
      "Epoch 34/100\n",
      "8000/8000 [==============================] - 1s 110us/step - loss: 0.5060 - acc: 0.7960\n",
      "Epoch 35/100\n",
      "8000/8000 [==============================] - 1s 107us/step - loss: 0.5060 - acc: 0.7960\n",
      "Epoch 36/100\n",
      "8000/8000 [==============================] - 1s 111us/step - loss: 0.5060 - acc: 0.7960\n",
      "Epoch 37/100\n",
      "8000/8000 [==============================] - 1s 117us/step - loss: 0.5059 - acc: 0.7960\n",
      "Epoch 38/100\n",
      "8000/8000 [==============================] - 1s 155us/step - loss: 0.5060 - acc: 0.7960\n",
      "Epoch 39/100\n",
      "8000/8000 [==============================] - 2s 207us/step - loss: 0.5060 - acc: 0.7960\n",
      "Epoch 40/100\n",
      "8000/8000 [==============================] - 1s 161us/step - loss: 0.5060 - acc: 0.7960\n",
      "Epoch 41/100\n",
      "8000/8000 [==============================] - 1s 134us/step - loss: 0.5059 - acc: 0.7960\n",
      "Epoch 42/100\n",
      "8000/8000 [==============================] - 1s 122us/step - loss: 0.5059 - acc: 0.7960\n",
      "Epoch 43/100\n",
      "8000/8000 [==============================] - 1s 118us/step - loss: 0.5060 - acc: 0.7960\n",
      "Epoch 44/100\n",
      "8000/8000 [==============================] - 1s 119us/step - loss: 0.5060 - acc: 0.7960\n",
      "Epoch 45/100\n",
      "8000/8000 [==============================] - 1s 162us/step - loss: 0.5060 - acc: 0.7960\n",
      "Epoch 46/100\n",
      "8000/8000 [==============================] - 1s 145us/step - loss: 0.5059 - acc: 0.7960\n",
      "Epoch 47/100\n",
      "8000/8000 [==============================] - 1s 148us/step - loss: 0.5060 - acc: 0.7960\n",
      "Epoch 48/100\n",
      "8000/8000 [==============================] - 1s 154us/step - loss: 0.5059 - acc: 0.7960\n",
      "Epoch 49/100\n",
      "8000/8000 [==============================] - 1s 139us/step - loss: 0.5059 - acc: 0.7960\n",
      "Epoch 50/100\n",
      "8000/8000 [==============================] - 1s 176us/step - loss: 0.5060 - acc: 0.7960\n",
      "Epoch 51/100\n",
      "8000/8000 [==============================] - 1s 172us/step - loss: 0.5060 - acc: 0.7960\n",
      "Epoch 52/100\n",
      "8000/8000 [==============================] - 2s 190us/step - loss: 0.5060 - acc: 0.7960\n",
      "Epoch 53/100\n",
      "8000/8000 [==============================] - 1s 168us/step - loss: 0.5060 - acc: 0.7960\n",
      "Epoch 54/100\n",
      "8000/8000 [==============================] - 1s 147us/step - loss: 0.5060 - acc: 0.7960\n",
      "Epoch 55/100\n",
      "8000/8000 [==============================] - 1s 153us/step - loss: 0.5060 - acc: 0.7960\n",
      "Epoch 56/100\n",
      "8000/8000 [==============================] - 1s 147us/step - loss: 0.5060 - acc: 0.7960\n",
      "Epoch 57/100\n",
      "8000/8000 [==============================] - 1s 181us/step - loss: 0.5059 - acc: 0.7960\n",
      "Epoch 58/100\n",
      "8000/8000 [==============================] - 1s 139us/step - loss: 0.5059 - acc: 0.7960\n",
      "Epoch 59/100\n",
      "8000/8000 [==============================] - 1s 138us/step - loss: 0.5060 - acc: 0.7960\n",
      "Epoch 60/100\n",
      "8000/8000 [==============================] - 1s 149us/step - loss: 0.5060 - acc: 0.7960\n",
      "Epoch 61/100\n",
      "8000/8000 [==============================] - 1s 160us/step - loss: 0.5059 - acc: 0.7960\n",
      "Epoch 62/100\n",
      "8000/8000 [==============================] - 1s 180us/step - loss: 0.5059 - acc: 0.7960\n",
      "Epoch 63/100\n",
      "8000/8000 [==============================] - 1s 176us/step - loss: 0.5060 - acc: 0.7960\n",
      "Epoch 64/100\n",
      "8000/8000 [==============================] - 1s 178us/step - loss: 0.5060 - acc: 0.7960\n",
      "Epoch 65/100\n",
      "8000/8000 [==============================] - 1s 164us/step - loss: 0.5060 - acc: 0.7960\n",
      "Epoch 66/100\n",
      "8000/8000 [==============================] - 1s 154us/step - loss: 0.5060 - acc: 0.7960\n",
      "Epoch 67/100\n",
      "8000/8000 [==============================] - 1s 138us/step - loss: 0.5059 - acc: 0.7960\n",
      "Epoch 68/100\n",
      "8000/8000 [==============================] - 1s 135us/step - loss: 0.5060 - acc: 0.7960\n",
      "Epoch 69/100\n",
      "8000/8000 [==============================] - 1s 137us/step - loss: 0.5059 - acc: 0.7960\n",
      "Epoch 70/100\n",
      "8000/8000 [==============================] - 1s 135us/step - loss: 0.5060 - acc: 0.7960\n",
      "Epoch 71/100\n",
      "8000/8000 [==============================] - 1s 134us/step - loss: 0.5059 - acc: 0.7960\n",
      "Epoch 72/100\n",
      "8000/8000 [==============================] - 1s 139us/step - loss: 0.5059 - acc: 0.7960\n",
      "Epoch 73/100\n",
      "8000/8000 [==============================] - 1s 137us/step - loss: 0.5060 - acc: 0.7960\n",
      "Epoch 74/100\n",
      "8000/8000 [==============================] - 1s 135us/step - loss: 0.5059 - acc: 0.7960\n",
      "Epoch 75/100\n",
      "8000/8000 [==============================] - 1s 138us/step - loss: 0.5059 - acc: 0.7960\n",
      "Epoch 76/100\n",
      "8000/8000 [==============================] - 1s 135us/step - loss: 0.5059 - acc: 0.7960\n",
      "Epoch 77/100\n",
      "8000/8000 [==============================] - 1s 166us/step - loss: 0.5060 - acc: 0.7960\n",
      "Epoch 78/100\n",
      "8000/8000 [==============================] - 1s 174us/step - loss: 0.5059 - acc: 0.7960\n",
      "Epoch 79/100\n",
      "8000/8000 [==============================] - 1s 161us/step - loss: 0.5060 - acc: 0.7960\n",
      "Epoch 80/100\n",
      "8000/8000 [==============================] - 1s 159us/step - loss: 0.5059 - acc: 0.7960\n",
      "Epoch 81/100\n",
      "8000/8000 [==============================] - 1s 142us/step - loss: 0.5060 - acc: 0.7960\n",
      "Epoch 82/100\n"
     ]
    },
    {
     "name": "stdout",
     "output_type": "stream",
     "text": [
      "8000/8000 [==============================] - 1s 122us/step - loss: 0.5059 - acc: 0.7960\n",
      "Epoch 83/100\n",
      "8000/8000 [==============================] - 1s 124us/step - loss: 0.5059 - acc: 0.7960\n",
      "Epoch 84/100\n",
      "8000/8000 [==============================] - 1s 123us/step - loss: 0.5060 - acc: 0.7960\n",
      "Epoch 85/100\n",
      "8000/8000 [==============================] - 1s 127us/step - loss: 0.5059 - acc: 0.7960\n",
      "Epoch 86/100\n",
      "8000/8000 [==============================] - 1s 136us/step - loss: 0.5059 - acc: 0.7960\n",
      "Epoch 87/100\n",
      "8000/8000 [==============================] - 1s 128us/step - loss: 0.5060 - acc: 0.7960\n",
      "Epoch 88/100\n",
      "8000/8000 [==============================] - 1s 148us/step - loss: 0.5060 - acc: 0.7960\n",
      "Epoch 89/100\n",
      "8000/8000 [==============================] - 1s 130us/step - loss: 0.5059 - acc: 0.7960\n",
      "Epoch 90/100\n",
      "8000/8000 [==============================] - 1s 132us/step - loss: 0.5059 - acc: 0.7960\n",
      "Epoch 91/100\n",
      "8000/8000 [==============================] - 1s 142us/step - loss: 0.5060 - acc: 0.7960\n",
      "Epoch 92/100\n",
      "8000/8000 [==============================] - 1s 172us/step - loss: 0.5060 - acc: 0.7960\n",
      "Epoch 93/100\n",
      "8000/8000 [==============================] - 1s 153us/step - loss: 0.5059 - acc: 0.7960\n",
      "Epoch 94/100\n",
      "8000/8000 [==============================] - 1s 149us/step - loss: 0.5059 - acc: 0.7960\n",
      "Epoch 95/100\n",
      "8000/8000 [==============================] - 1s 139us/step - loss: 0.5059 - acc: 0.7960\n",
      "Epoch 96/100\n",
      "8000/8000 [==============================] - 1s 163us/step - loss: 0.5060 - acc: 0.7960\n",
      "Epoch 97/100\n",
      "8000/8000 [==============================] - 1s 158us/step - loss: 0.5060 - acc: 0.7960\n",
      "Epoch 98/100\n",
      "8000/8000 [==============================] - 1s 142us/step - loss: 0.5060 - acc: 0.7960\n",
      "Epoch 99/100\n",
      "8000/8000 [==============================] - 1s 173us/step - loss: 0.5060 - acc: 0.7960\n",
      "Epoch 100/100\n",
      "8000/8000 [==============================] - 1s 167us/step - loss: 0.5059 - acc: 0.7960\n"
     ]
    },
    {
     "data": {
      "text/plain": [
       "<keras.callbacks.History at 0x17e992ac160>"
      ]
     },
     "execution_count": 88,
     "metadata": {},
     "output_type": "execute_result"
    }
   ],
   "source": [
    "#fitting the ann to the training set\n",
    "classifier.fit(X_train,y_train,batch_size=10,nb_epoch=100)"
   ]
  },
  {
   "cell_type": "code",
   "execution_count": 90,
   "metadata": {},
   "outputs": [],
   "source": [
    "#predict\n",
    "y_pred=classifier.predict(X_test)\n"
   ]
  },
  {
   "cell_type": "code",
   "execution_count": 92,
   "metadata": {},
   "outputs": [
    {
     "data": {
      "text/plain": [
       "array([[0.2041851],\n",
       "       [0.2041851],\n",
       "       [0.2041851],\n",
       "       ...,\n",
       "       [0.2041851],\n",
       "       [0.2041851],\n",
       "       [0.2041851]], dtype=float32)"
      ]
     },
     "execution_count": 92,
     "metadata": {},
     "output_type": "execute_result"
    }
   ],
   "source": [
    "y_pred"
   ]
  },
  {
   "cell_type": "code",
   "execution_count": 94,
   "metadata": {},
   "outputs": [],
   "source": [
    "y_pred=(y_pred>0.5)"
   ]
  },
  {
   "cell_type": "code",
   "execution_count": 98,
   "metadata": {},
   "outputs": [
    {
     "data": {
      "text/plain": [
       "array([[False],\n",
       "       [False],\n",
       "       [False],\n",
       "       [False],\n",
       "       [False],\n",
       "       [False],\n",
       "       [False],\n",
       "       [False],\n",
       "       [False],\n",
       "       [False]])"
      ]
     },
     "execution_count": 98,
     "metadata": {},
     "output_type": "execute_result"
    }
   ],
   "source": [
    "y_pred[:10]"
   ]
  },
  {
   "cell_type": "code",
   "execution_count": null,
   "metadata": {},
   "outputs": [],
   "source": []
  }
 ],
 "metadata": {
  "kernelspec": {
   "display_name": "Python 3",
   "language": "python",
   "name": "python3"
  },
  "language_info": {
   "codemirror_mode": {
    "name": "ipython",
    "version": 3
   },
   "file_extension": ".py",
   "mimetype": "text/x-python",
   "name": "python",
   "nbconvert_exporter": "python",
   "pygments_lexer": "ipython3",
   "version": "3.6.7"
  }
 },
 "nbformat": 4,
 "nbformat_minor": 2
}
